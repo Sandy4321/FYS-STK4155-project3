{
 "cells": [
  {
   "cell_type": "markdown",
   "metadata": {},
   "source": [
    "# Todo\n",
    "\n",
    "## MAGIC dataset\n",
    "* kNN\n",
    "* LR(?)\n",
    "* NN using tensorflow\n",
    "* XGBoost\n",
    "* PCA\n",
    "* Rerun methods\n",
    "* Write report comparing methods and discussing importance of PCA for ten features (19020 datapoints) where some have correlation"
   ]
  },
  {
   "cell_type": "code",
   "execution_count": 104,
   "metadata": {},
   "outputs": [
    {
     "data": {
      "application/javascript": [
       "\n",
       "            setTimeout(function() {\n",
       "                var nbb_cell_id = 104;\n",
       "                var nbb_formatted_code = \"import pandas as pd\\nimport numpy as np\\nimport matplotlib.pyplot as plt\\nimport sklearn.neighbors as sklne\\nimport sklearn.model_selection as sklms\\nimport sklearn.preprocessing as sklpre\\nimport tensorflow as tf\\nimport seaborn as sns\\n\\nnp.random.seed(123)\";\n",
       "                var nbb_cells = Jupyter.notebook.get_cells();\n",
       "                for (var i = 0; i < nbb_cells.length; ++i) {\n",
       "                    if (nbb_cells[i].input_prompt_number == nbb_cell_id) {\n",
       "                        nbb_cells[i].set_text(nbb_formatted_code);\n",
       "                        break;\n",
       "                    }\n",
       "                }\n",
       "            }, 500);\n",
       "            "
      ],
      "text/plain": [
       "<IPython.core.display.Javascript object>"
      ]
     },
     "metadata": {},
     "output_type": "display_data"
    }
   ],
   "source": [
    "import pandas as pd\n",
    "import numpy as np\n",
    "import matplotlib.pyplot as plt\n",
    "import sklearn.neighbors as sklne\n",
    "import sklearn.model_selection as sklms\n",
    "import sklearn.preprocessing as sklpre\n",
    "import tensorflow as tf\n",
    "import seaborn as sns\n",
    "\n",
    "np.random.seed(123)"
   ]
  },
  {
   "cell_type": "code",
   "execution_count": 89,
   "metadata": {},
   "outputs": [
    {
     "name": "stdout",
     "output_type": "stream",
     "text": [
      "The nb_black extension is already loaded. To reload it, use:\n",
      "  %reload_ext nb_black\n"
     ]
    },
    {
     "data": {
      "application/javascript": [
       "\n",
       "            setTimeout(function() {\n",
       "                var nbb_cell_id = 89;\n",
       "                var nbb_formatted_code = \"# Black for Jupyter Notebook!\\n%load_ext nb_black\";\n",
       "                var nbb_cells = Jupyter.notebook.get_cells();\n",
       "                for (var i = 0; i < nbb_cells.length; ++i) {\n",
       "                    if (nbb_cells[i].input_prompt_number == nbb_cell_id) {\n",
       "                        nbb_cells[i].set_text(nbb_formatted_code);\n",
       "                        break;\n",
       "                    }\n",
       "                }\n",
       "            }, 500);\n",
       "            "
      ],
      "text/plain": [
       "<IPython.core.display.Javascript object>"
      ]
     },
     "metadata": {},
     "output_type": "display_data"
    }
   ],
   "source": [
    "# Black for Jupyter Notebook!\n",
    "%load_ext nb_black"
   ]
  },
  {
   "cell_type": "code",
   "execution_count": 119,
   "metadata": {},
   "outputs": [
    {
     "data": {
      "image/png": "[encoded data removed]",
      "text/plain": [
       "<Figure size 1164.96x720 with 1 Axes>"
      ]
     },
     "metadata": {
      "needs_background": "light"
     },
     "output_type": "display_data"
    },
    {
     "data": {
      "application/javascript": [
       "\n",
       "            setTimeout(function() {\n",
       "                var nbb_cell_id = 119;\n",
       "                var nbb_formatted_code = \"# Reading data\\ndf = pd.read_csv(\\\"telescope_data.csv\\\")\\n# Dropping useless column\\ndf.drop(\\\"Unnamed: 0\\\", axis=1, inplace=True)\\n# Setting feature matrix X and outcome y\\nX = df.drop(\\\"class\\\", axis=1)\\ny = df[\\\"class\\\"]\\n\\n# Splitting\\nX_train, X_test, y_train, y_test = sklms.train_test_split(\\n    X, y, stratify=y, test_size=0.33\\n)\\n\\n# Scaling feature matrix (All features are scalar).\\nscaler = sklpre.StandardScaler()\\n\\nX_train = pd.DataFrame(\\n    scaler.fit_transform(X_train.to_numpy()), columns=X_train.columns\\n)\\nX_test = pd.DataFrame(scaler.transform(X_test.to_numpy()), columns=X_test.columns)\\n\\n# One-hot encoding outcomes, keeping them as dataframes\\nencoder = sklpre.OneHotEncoder(categories=\\\"auto\\\", sparse=False)\\n# Plotting histogram of outcomes\\nfig, ax = plt.subplots(figsize=(10 * 1.618, 10))\\ny_train.hist(ax=ax, density=True)\\n\\ny_train = pd.DataFrame(\\n    encoder.fit_transform(y_train.to_numpy().reshape(-1, 1)),\\n    columns=encoder.categories_,\\n)\\ny_test = pd.DataFrame(\\n    encoder.fit_transform(y_test.to_numpy().reshape(-1, 1)),\\n    columns=encoder.categories_,\\n)\\n\\nplt.show()\\n# Deleting non-used objects to avoid bugs later and save memory\\ndel X\\ndel y\\ndel df\";\n",
       "                var nbb_cells = Jupyter.notebook.get_cells();\n",
       "                for (var i = 0; i < nbb_cells.length; ++i) {\n",
       "                    if (nbb_cells[i].input_prompt_number == nbb_cell_id) {\n",
       "                        nbb_cells[i].set_text(nbb_formatted_code);\n",
       "                        break;\n",
       "                    }\n",
       "                }\n",
       "            }, 500);\n",
       "            "
      ],
      "text/plain": [
       "<IPython.core.display.Javascript object>"
      ]
     },
     "metadata": {},
     "output_type": "display_data"
    }
   ],
   "source": [
    "# Reading data\n",
    "df = pd.read_csv(\"telescope_data.csv\")\n",
    "# Dropping useless column\n",
    "df.drop(\"Unnamed: 0\", axis=1, inplace=True)\n",
    "# Setting feature matrix X and outcome y\n",
    "X = df.drop(\"class\", axis=1)\n",
    "y = df[\"class\"]\n",
    "\n",
    "# Splitting\n",
    "X_train, X_test, y_train, y_test = sklms.train_test_split(\n",
    "    X, y, stratify=y, test_size=0.33\n",
    ")\n",
    "\n",
    "# Scaling feature matrix (All features are scalar).\n",
    "scaler = sklpre.StandardScaler()\n",
    "\n",
    "X_train = pd.DataFrame(\n",
    "    scaler.fit_transform(X_train.to_numpy()), columns=X_train.columns\n",
    ")\n",
    "X_test = pd.DataFrame(scaler.transform(X_test.to_numpy()), columns=X_test.columns)\n",
    "\n",
    "# One-hot encoding outcomes, keeping them as dataframes\n",
    "encoder = sklpre.OneHotEncoder(categories=\"auto\", sparse=False)\n",
    "# Plotting histogram of outcomes\n",
    "fig, ax = plt.subplots(figsize=(10 * 1.618, 10))\n",
    "y_train.hist(ax=ax, density=True)\n",
    "\n",
    "y_train = pd.DataFrame(\n",
    "    encoder.fit_transform(y_train.to_numpy().reshape(-1, 1)),\n",
    "    columns=encoder.categories_,\n",
    ")\n",
    "y_test = pd.DataFrame(\n",
    "    encoder.fit_transform(y_test.to_numpy().reshape(-1, 1)),\n",
    "    columns=encoder.categories_,\n",
    ")\n",
    "\n",
    "plt.show()\n",
    "# Deleting non-used objects to avoid bugs later and save memory\n",
    "del X\n",
    "del y\n",
    "del df"
   ]
  },
  {
   "cell_type": "code",
   "execution_count": 118,
   "metadata": {},
   "outputs": [
    {
     "data": {
      "image/png": "[encoded data removed]",
      "text/plain": [
       "<Figure size 1164.96x720 with 2 Axes>"
      ]
     },
     "metadata": {
      "needs_background": "light"
     },
     "output_type": "display_data"
    },
    {
     "data": {
      "application/javascript": [
       "\n",
       "            setTimeout(function() {\n",
       "                var nbb_cell_id = 118;\n",
       "                var nbb_formatted_code = \"# Plotting correlation matrix\\nfig, ax = plt.subplots(figsize=(10 * 1.618, 10))\\nsns.heatmap(X_train.corr(), cmap=\\\"YlGnBu\\\", ax=ax, square=True)\\nax.set_ylim([10, 0])\\nax.set_xlim([0, 10])\\nfig.tight_layout()\\nplt.show()\";\n",
       "                var nbb_cells = Jupyter.notebook.get_cells();\n",
       "                for (var i = 0; i < nbb_cells.length; ++i) {\n",
       "                    if (nbb_cells[i].input_prompt_number == nbb_cell_id) {\n",
       "                        nbb_cells[i].set_text(nbb_formatted_code);\n",
       "                        break;\n",
       "                    }\n",
       "                }\n",
       "            }, 500);\n",
       "            "
      ],
      "text/plain": [
       "<IPython.core.display.Javascript object>"
      ]
     },
     "metadata": {},
     "output_type": "display_data"
    }
   ],
   "source": [
    "# Plotting correlation matrix\n",
    "fig, ax = plt.subplots(figsize=(10 * 1.618, 10))\n",
    "sns.heatmap(X_train.corr(), cmap=\"YlGnBu\", ax=ax, square=True)\n",
    "ax.set_ylim([10, 0])\n",
    "ax.set_xlim([0, 10])\n",
    "fig.tight_layout()\n",
    "plt.show()"
   ]
  },
  {
   "cell_type": "code",
   "execution_count": 115,
   "metadata": {},
   "outputs": [
    {
     "name": "stdout",
     "output_type": "stream",
     "text": [
      "Fitting 5 folds for each of 199 candidates, totalling 995 fits\n"
     ]
    },
    {
     "name": "stderr",
     "output_type": "stream",
     "text": [
      "[Parallel(n_jobs=-1)]: Using backend LokyBackend with 8 concurrent workers.\n",
      "[Parallel(n_jobs=-1)]: Done   2 tasks      | elapsed:    1.9s\n",
      "[Parallel(n_jobs=-1)]: Done   9 tasks      | elapsed:    2.3s\n",
      "[Parallel(n_jobs=-1)]: Done  16 tasks      | elapsed:    2.6s\n",
      "[Parallel(n_jobs=-1)]: Done  25 tasks      | elapsed:    3.6s\n",
      "[Parallel(n_jobs=-1)]: Done  34 tasks      | elapsed:    4.4s\n",
      "[Parallel(n_jobs=-1)]: Done  45 tasks      | elapsed:    5.5s\n",
      "[Parallel(n_jobs=-1)]: Done  56 tasks      | elapsed:    6.5s\n",
      "[Parallel(n_jobs=-1)]: Done  69 tasks      | elapsed:    7.8s\n",
      "[Parallel(n_jobs=-1)]: Done  82 tasks      | elapsed:    9.0s\n",
      "[Parallel(n_jobs=-1)]: Done  97 tasks      | elapsed:   10.6s\n",
      "[Parallel(n_jobs=-1)]: Done 112 tasks      | elapsed:   12.3s\n",
      "[Parallel(n_jobs=-1)]: Done 129 tasks      | elapsed:   14.1s\n",
      "[Parallel(n_jobs=-1)]: Done 146 tasks      | elapsed:   16.2s\n",
      "[Parallel(n_jobs=-1)]: Done 165 tasks      | elapsed:   18.6s\n",
      "[Parallel(n_jobs=-1)]: Done 184 tasks      | elapsed:   20.7s\n",
      "[Parallel(n_jobs=-1)]: Done 205 tasks      | elapsed:   23.3s\n",
      "[Parallel(n_jobs=-1)]: Done 226 tasks      | elapsed:   25.8s\n",
      "[Parallel(n_jobs=-1)]: Done 249 tasks      | elapsed:   28.9s\n",
      "[Parallel(n_jobs=-1)]: Done 272 tasks      | elapsed:   32.0s\n",
      "[Parallel(n_jobs=-1)]: Done 297 tasks      | elapsed:   35.0s\n",
      "[Parallel(n_jobs=-1)]: Done 322 tasks      | elapsed:   38.2s\n",
      "[Parallel(n_jobs=-1)]: Done 349 tasks      | elapsed:   41.8s\n",
      "[Parallel(n_jobs=-1)]: Done 376 tasks      | elapsed:   45.4s\n",
      "[Parallel(n_jobs=-1)]: Done 405 tasks      | elapsed:   49.1s\n",
      "[Parallel(n_jobs=-1)]: Done 434 tasks      | elapsed:   52.6s\n",
      "[Parallel(n_jobs=-1)]: Done 465 tasks      | elapsed:   57.3s\n",
      "[Parallel(n_jobs=-1)]: Done 496 tasks      | elapsed:  1.0min\n",
      "[Parallel(n_jobs=-1)]: Done 529 tasks      | elapsed:  1.1min\n",
      "[Parallel(n_jobs=-1)]: Done 562 tasks      | elapsed:  1.2min\n",
      "[Parallel(n_jobs=-1)]: Done 597 tasks      | elapsed:  1.3min\n",
      "[Parallel(n_jobs=-1)]: Done 632 tasks      | elapsed:  1.4min\n",
      "[Parallel(n_jobs=-1)]: Done 669 tasks      | elapsed:  1.5min\n",
      "[Parallel(n_jobs=-1)]: Done 706 tasks      | elapsed:  1.6min\n",
      "[Parallel(n_jobs=-1)]: Done 745 tasks      | elapsed:  1.7min\n",
      "[Parallel(n_jobs=-1)]: Done 784 tasks      | elapsed:  1.8min\n",
      "[Parallel(n_jobs=-1)]: Done 825 tasks      | elapsed:  1.9min\n",
      "[Parallel(n_jobs=-1)]: Done 866 tasks      | elapsed:  2.0min\n",
      "[Parallel(n_jobs=-1)]: Done 909 tasks      | elapsed:  2.2min\n",
      "[Parallel(n_jobs=-1)]: Done 952 tasks      | elapsed:  2.3min\n",
      "[Parallel(n_jobs=-1)]: Done 995 out of 995 | elapsed:  2.4min finished\n"
     ]
    },
    {
     "data": {
      "application/javascript": [
       "\n",
       "            setTimeout(function() {\n",
       "                var nbb_cell_id = 115;\n",
       "                var nbb_formatted_code = \"knn_base = sklne.KNeighborsClassifier()\\n\\nhyperparams_knn = {\\\"n_neighbors\\\": np.arange(1, 200)}\\n# As we saw in the earlier plot, we have an imbalanced dataset. Therefore we use the F1 score instead of accuracy\\ngrid_search_knn = sklms.GridSearchCV(\\n    knn_base,\\n    hyperparams_knn,\\n    scoring=\\\"f1_weighted\\\",\\n    cv=5,\\n    iid=False,\\n    n_jobs=-1,\\n    verbose=10,\\n).fit(X_train, y_train)\";\n",
       "                var nbb_cells = Jupyter.notebook.get_cells();\n",
       "                for (var i = 0; i < nbb_cells.length; ++i) {\n",
       "                    if (nbb_cells[i].input_prompt_number == nbb_cell_id) {\n",
       "                        nbb_cells[i].set_text(nbb_formatted_code);\n",
       "                        break;\n",
       "                    }\n",
       "                }\n",
       "            }, 500);\n",
       "            "
      ],
      "text/plain": [
       "<IPython.core.display.Javascript object>"
      ]
     },
     "metadata": {},
     "output_type": "display_data"
    }
   ],
   "source": [
    "knn_base = sklne.KNeighborsClassifier()\n",
    "\n",
    "hyperparams_knn = {\"n_neighbors\": np.arange(1, 200)}\n",
    "# As we saw in the earlier plot, we have an imbalanced dataset.\n",
    "# Therefore we use the weighted F1 score instead of accuracy.\n",
    "grid_search_knn = sklms.GridSearchCV(\n",
    "    knn_base,\n",
    "    hyperparams_knn,\n",
    "    scoring=\"f1_weighted\",\n",
    "    cv=5,\n",
    "    iid=False,\n",
    "    n_jobs=-1,\n",
    "    verbose=10,\n",
    ").fit(X_train, y_train)"
   ]
  },
  {
   "cell_type": "code",
   "execution_count": 125,
   "metadata": {},
   "outputs": [
    {
     "name": "stdout",
     "output_type": "stream",
     "text": [
      "0.8536598396355423\n",
      "{'n_neighbors': 7}\n"
     ]
    },
    {
     "data": {
      "application/javascript": [
       "\n",
       "            setTimeout(function() {\n",
       "                var nbb_cell_id = 125;\n",
       "                var nbb_formatted_code = \"print(grid_search_knn.score(X_test, y_test))\\nprint(grid_search_knn.best_params_)\";\n",
       "                var nbb_cells = Jupyter.notebook.get_cells();\n",
       "                for (var i = 0; i < nbb_cells.length; ++i) {\n",
       "                    if (nbb_cells[i].input_prompt_number == nbb_cell_id) {\n",
       "                        nbb_cells[i].set_text(nbb_formatted_code);\n",
       "                        break;\n",
       "                    }\n",
       "                }\n",
       "            }, 500);\n",
       "            "
      ],
      "text/plain": [
       "<IPython.core.display.Javascript object>"
      ]
     },
     "metadata": {},
     "output_type": "display_data"
    }
   ],
   "source": [
    "print(grid_search_knn.score(X_test, y_test))\n",
    "print(grid_search_knn.best_params_)"
   ]
  }
 ],
 "metadata": {
  "kernelspec": {
   "display_name": "Python 3",
   "language": "python",
   "name": "python3"
  },
  "language_info": {
   "codemirror_mode": {
    "name": "ipython",
    "version": 3
   },
   "file_extension": ".py",
   "mimetype": "text/x-python",
   "name": "python",
   "nbconvert_exporter": "python",
   "pygments_lexer": "ipython3",
   "version": "3.7.4"
  }
 },
 "nbformat": 4,
 "nbformat_minor": 2
}
