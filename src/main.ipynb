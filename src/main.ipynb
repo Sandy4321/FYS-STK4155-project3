{
 "cells": [
  {
   "cell_type": "markdown",
   "metadata": {},
   "source": [
    "# FYS-STK4155 Project 3\n",
    "\n",
    "This notebook contains all relevant code for the project."
   ]
  },
  {
   "cell_type": "code",
   "execution_count": 1,
   "metadata": {},
   "outputs": [
    {
     "name": "stderr",
     "output_type": "stream",
     "text": [
      "/Users/bernhard/.local/share/virtualenvs/FYS-STK4155-project3-MquKe0Ri/lib/python3.7/site-packages/sklearn/externals/joblib/__init__.py:15: DeprecationWarning: sklearn.externals.joblib is deprecated in 0.21 and will be removed in 0.23. Please import this functionality directly from joblib, which can be installed with: pip install joblib. If this warning is raised when loading pickled models, you may need to re-serialize those models with scikit-learn 0.21+.\n",
      "  warnings.warn(msg, category=DeprecationWarning)\n"
     ]
    }
   ],
   "source": [
    "import pandas as pd\n",
    "import numpy as np\n",
    "import matplotlib.pyplot as plt\n",
    "import sklearn.neighbors as sklne\n",
    "import sklearn.model_selection as sklms\n",
    "import sklearn.preprocessing as sklpre\n",
    "import tensorflow as tf\n",
    "import seaborn as sns\n",
    "import scikitplot as sklplt\n",
    "import sklearn.metrics as sklme\n",
    "import tensorflow_addons as tfa\n",
    "import xgboost as xgb\n",
    "import sklearn.decomposition as sklde\n",
    "import skopt\n",
    "import joblib\n",
    "\n",
    "#Setting font styles for plots.\n",
    "fonts = {\n",
    "    \"font.family\": \"serif\",\n",
    "    \"axes.labelsize\": 10,\n",
    "    \"font.size\": 10,\n",
    "    \"legend.fontsize\": 10,\n",
    "    \"xtick.labelsize\": 10,\n",
    "    \"ytick.labelsize\": 10,\n",
    "}\n",
    "\n",
    "plt.rcParams.update(fonts)\n",
    "\n",
    "np.random.seed(123)"
   ]
  },
  {
   "cell_type": "code",
   "execution_count": 2,
   "metadata": {},
   "outputs": [
    {
     "data": {
      "application/javascript": [
       "\n",
       "            setTimeout(function() {\n",
       "                var nbb_cell_id = 2;\n",
       "                var nbb_formatted_code = \"# Black for Jupyter Notebook!\\n%load_ext nb_black\";\n",
       "                var nbb_cells = Jupyter.notebook.get_cells();\n",
       "                for (var i = 0; i < nbb_cells.length; ++i) {\n",
       "                    if (nbb_cells[i].input_prompt_number == nbb_cell_id) {\n",
       "                        nbb_cells[i].set_text(nbb_formatted_code);\n",
       "                        break;\n",
       "                    }\n",
       "                }\n",
       "            }, 500);\n",
       "            "
      ],
      "text/plain": [
       "<IPython.core.display.Javascript object>"
      ]
     },
     "metadata": {},
     "output_type": "display_data"
    }
   ],
   "source": [
    "# Black for Jupyter Notebook!\n",
    "%load_ext nb_black"
   ]
  },
  {
   "cell_type": "markdown",
   "metadata": {},
   "source": [
    "## Preprocessing data\n",
    "Using 0.33 of the data as test set."
   ]
  },
  {
   "cell_type": "code",
   "execution_count": 3,
   "metadata": {},
   "outputs": [
    {
     "data": {
      "image/png": "[encoded data removed]",
      "text/plain": [
       "<Figure size 217.211x217.211 with 1 Axes>"
      ]
     },
     "metadata": {
      "needs_background": "light"
     },
     "output_type": "display_data"
    },
    {
     "data": {
      "application/javascript": [
       "\n",
       "            setTimeout(function() {\n",
       "                var nbb_cell_id = 3;\n",
       "                var nbb_formatted_code = \"# Reading data\\ndf = pd.read_csv(\\\"data/telescope_data.csv\\\")\\n# Dropping useless column\\ndf.drop(\\\"Unnamed: 0\\\", axis=1, inplace=True)\\n# Setting feature matrix X and outcome y\\nX = df.drop(\\\"class\\\", axis=1)\\ny = df[\\\"class\\\"]\\n\\n# Splitting\\nX_train, X_test, y_train, y_test = sklms.train_test_split(\\n    X, y, stratify=y, test_size=0.33\\n)\\n\\n# Scaling feature matrix (All features are scalar).\\nscaler = sklpre.StandardScaler()\\n\\nX_train = pd.DataFrame(\\n    scaler.fit_transform(X_train.to_numpy()), columns=X_train.columns\\n)\\nX_test = pd.DataFrame(scaler.transform(X_test.to_numpy()), columns=X_test.columns)\\n\\n# One-hot encoding outcomes, keeping them as dataframes\\nencoder = sklpre.OneHotEncoder(categories=\\\"auto\\\", sparse=False)\\n# Plotting histogram of outcomes\\nfig, ax = plt.subplots(figsize=(3.01682, 3.01682))\\ny.hist(ax=ax, density=False, bins=3)\\n\\ny_train = pd.DataFrame(\\n    encoder.fit_transform(y_train.to_numpy().reshape(-1, 1)),\\n    columns=encoder.categories_,\\n)\\ny_test = pd.DataFrame(\\n    encoder.fit_transform(y_test.to_numpy().reshape(-1, 1)),\\n    columns=encoder.categories_,\\n)\\nax.set_xlabel(\\\"Outcome\\\")\\nax.set_ylabel(\\\"Occurrences\\\")\\nfig.tight_layout()\\nfig.savefig(\\\"../doc/figures/histogram.pdf\\\", dpi=1000)\\nplt.show()\\n# Deleting non-used objects to avoid bugs later and save memory\\ndel X\\ndel y\\ndel df\";\n",
       "                var nbb_cells = Jupyter.notebook.get_cells();\n",
       "                for (var i = 0; i < nbb_cells.length; ++i) {\n",
       "                    if (nbb_cells[i].input_prompt_number == nbb_cell_id) {\n",
       "                        nbb_cells[i].set_text(nbb_formatted_code);\n",
       "                        break;\n",
       "                    }\n",
       "                }\n",
       "            }, 500);\n",
       "            "
      ],
      "text/plain": [
       "<IPython.core.display.Javascript object>"
      ]
     },
     "metadata": {},
     "output_type": "display_data"
    }
   ],
   "source": [
    "# Reading data\n",
    "df = pd.read_csv(\"data/telescope_data.csv\")\n",
    "# Dropping useless column\n",
    "df.drop(\"Unnamed: 0\", axis=1, inplace=True)\n",
    "# Setting feature matrix X and outcome y\n",
    "X = df.drop(\"class\", axis=1)\n",
    "y = df[\"class\"]\n",
    "\n",
    "# Splitting\n",
    "X_train, X_test, y_train, y_test = sklms.train_test_split(\n",
    "    X, y, stratify=y, test_size=0.33\n",
    ")\n",
    "\n",
    "# Scaling feature matrix (All features are scalar).\n",
    "scaler = sklpre.StandardScaler()\n",
    "\n",
    "X_train = pd.DataFrame(\n",
    "    scaler.fit_transform(X_train.to_numpy()), columns=X_train.columns\n",
    ")\n",
    "X_test = pd.DataFrame(scaler.transform(X_test.to_numpy()), columns=X_test.columns)\n",
    "\n",
    "# One-hot encoding outcomes, keeping them as dataframes\n",
    "encoder = sklpre.OneHotEncoder(categories=\"auto\", sparse=False)\n",
    "# Plotting histogram of outcomes\n",
    "fig, ax = plt.subplots(figsize=(3.01682, 3.01682))\n",
    "y.hist(ax=ax, density=False, bins=3)\n",
    "\n",
    "y_train = pd.DataFrame(\n",
    "    encoder.fit_transform(y_train.to_numpy().reshape(-1, 1)),\n",
    "    columns=encoder.categories_,\n",
    ")\n",
    "y_test = pd.DataFrame(\n",
    "    encoder.fit_transform(y_test.to_numpy().reshape(-1, 1)),\n",
    "    columns=encoder.categories_,\n",
    ")\n",
    "ax.set_xlabel(\"Outcome\")\n",
    "ax.set_ylabel(\"Occurrences\")\n",
    "fig.tight_layout()\n",
    "fig.savefig(\"../doc/figures/histogram.pdf\", dpi=1000)\n",
    "plt.show()\n",
    "# Deleting non-used objects to avoid bugs later and save memory\n",
    "del X\n",
    "del y\n",
    "del df"
   ]
  },
  {
   "cell_type": "code",
   "execution_count": 23,
   "metadata": {},
   "outputs": [
    {
     "data": {
      "image/png": "[encoded data removed]",
      "text/plain": [
       "<Figure size 449.369x449.369 with 1 Axes>"
      ]
     },
     "metadata": {
      "needs_background": "light"
     },
     "output_type": "display_data"
    },
    {
     "data": {
      "application/javascript": [
       "\n",
       "            setTimeout(function() {\n",
       "                var nbb_cell_id = 23;\n",
       "                var nbb_formatted_code = \"# Plotting correlation matrix\\nfig, ax = plt.subplots(figsize=(6.24123, 6.24123))\\nX_train_corr = X_train.corr()\\nmask = np.triu(X_train_corr, k=1)\\nmask = np.ma.array(X_train_corr.to_numpy(), mask=mask)\\nX_train_corr = pd.DataFrame(\\n    mask, columns=X_train_corr.columns, index=X_train_corr.index,\\n)\\nsns.heatmap(X_train_corr, cmap=\\\"YlGnBu\\\", ax=ax, square=True, annot=True, cbar=False)\\nax.set_ylim([10, 0])\\nax.set_xlim([0, 10])\\nfig.tight_layout()\\nfig.savefig(\\\"../doc/figures/correlation_matrix_train.pdf\\\", dpi=1000)\\nplt.show()\";\n",
       "                var nbb_cells = Jupyter.notebook.get_cells();\n",
       "                for (var i = 0; i < nbb_cells.length; ++i) {\n",
       "                    if (nbb_cells[i].input_prompt_number == nbb_cell_id) {\n",
       "                        nbb_cells[i].set_text(nbb_formatted_code);\n",
       "                        break;\n",
       "                    }\n",
       "                }\n",
       "            }, 500);\n",
       "            "
      ],
      "text/plain": [
       "<IPython.core.display.Javascript object>"
      ]
     },
     "metadata": {},
     "output_type": "display_data"
    }
   ],
   "source": [
    "# Plotting correlation matrix, using mask to only show lower triangle because\n",
    "# showing the entire matrix is unnecessary.\n",
    "fig, ax = plt.subplots(figsize=(6.24123, 6.24123))\n",
    "X_train_corr = X_train.corr()\n",
    "mask = np.triu(X_train_corr, k=1)\n",
    "mask = np.ma.array(X_train_corr.to_numpy(), mask=mask)\n",
    "X_train_corr = pd.DataFrame(\n",
    "    mask, columns=X_train_corr.columns, index=X_train_corr.index,\n",
    ")\n",
    "sns.heatmap(X_train_corr, cmap=\"YlGnBu\", ax=ax, square=True, annot=True, cbar=False)\n",
    "ax.set_ylim([10, 0])\n",
    "ax.set_xlim([0, 10])\n",
    "fig.tight_layout()\n",
    "fig.savefig(\"../doc/figures/correlation_matrix_train.pdf\", dpi=1000)\n",
    "plt.show()"
   ]
  },
  {
   "cell_type": "markdown",
   "metadata": {},
   "source": [
    "## kNN\n",
    "Tuning k for kNN using 5-fold cross validation."
   ]
  },
  {
   "cell_type": "code",
   "execution_count": 5,
   "metadata": {},
   "outputs": [
    {
     "data": {
      "application/javascript": [
       "\n",
       "            setTimeout(function() {\n",
       "                var nbb_cell_id = 5;\n",
       "                var nbb_formatted_code = \"knn_base = sklne.KNeighborsClassifier()\\n\\nhyperparams_knn = {\\\"n_neighbors\\\": np.arange(1, 50)}\\n# Using cross validation on train set to fit kNN and k.\\ngrid_search_knn = sklms.GridSearchCV(\\n    knn_base,\\n    hyperparams_knn,\\n    scoring=\\\"f1_weighted\\\",\\n    cv=5,\\n    iid=False,\\n    n_jobs=-1,\\n    verbose=0,\\n).fit(X_train, y_train)\";\n",
       "                var nbb_cells = Jupyter.notebook.get_cells();\n",
       "                for (var i = 0; i < nbb_cells.length; ++i) {\n",
       "                    if (nbb_cells[i].input_prompt_number == nbb_cell_id) {\n",
       "                        nbb_cells[i].set_text(nbb_formatted_code);\n",
       "                        break;\n",
       "                    }\n",
       "                }\n",
       "            }, 500);\n",
       "            "
      ],
      "text/plain": [
       "<IPython.core.display.Javascript object>"
      ]
     },
     "metadata": {},
     "output_type": "display_data"
    }
   ],
   "source": [
    "knn_base = sklne.KNeighborsClassifier()\n",
    "\n",
    "hyperparams_knn = {\"n_neighbors\": np.arange(1, 50)}\n",
    "# Using cross validation on train set to fit kNN and k.\n",
    "grid_search_knn = sklms.GridSearchCV(\n",
    "    knn_base,\n",
    "    hyperparams_knn,\n",
    "    scoring=\"f1_weighted\",\n",
    "    cv=5,\n",
    "    iid=False,\n",
    "    n_jobs=-1,\n",
    "    verbose=0,\n",
    ").fit(X_train, y_train)"
   ]
  },
  {
   "cell_type": "code",
   "execution_count": 6,
   "metadata": {},
   "outputs": [
    {
     "name": "stdout",
     "output_type": "stream",
     "text": [
      "k-NN:\n",
      "Train weighted f1 score: 0.88\n",
      "Test weighted f1 score: 0.83\n",
      "Best k = 5\n"
     ]
    },
    {
     "data": {
      "image/png": "[encoded data removed]",
      "text/plain": [
       "<Figure size 449.369x277.731 with 2 Axes>"
      ]
     },
     "metadata": {
      "needs_background": "light"
     },
     "output_type": "display_data"
    },
    {
     "data": {
      "application/javascript": [
       "\n",
       "            setTimeout(function() {\n",
       "                var nbb_cell_id = 6;\n",
       "                var nbb_formatted_code = \"print(\\\"k-NN:\\\")\\nprint(f\\\"Train weighted f1 score: {grid_search_knn.score(X_train, y_train):.2f}\\\")\\nprint(f\\\"Test weighted f1 score: {grid_search_knn.score(X_test, y_test):.2f}\\\")\\nprint(f\\\"Best k = {grid_search_knn.best_params_['n_neighbors']}\\\")\\nfig, ax = plt.subplots(1, 2, figsize=[6.24123, 6.24123 / 1.618])\\ny_pred_test = encoder.inverse_transform(grid_search_knn.predict(X_test))\\nsklplt.metrics.plot_confusion_matrix(\\n    encoder.inverse_transform(y_test.to_numpy()),\\n    y_pred_test,\\n    ax=ax[1],\\n    hide_counts=False,\\n    normalize=False,\\n    title=f\\\"Confusion Matrix \\\"\\n    + f\\\"\\\\n g = signal, h = background \\\"\\n    + f\\\"\\\\n k = {grid_search_knn.best_params_['n_neighbors']}\\\",\\n)\\n# Scikit-plot doesn't let you disable colorbar, removing it manually\\nim = ax[1].images\\ncb = im[-1].colorbar\\ncb.remove()\\nax[1].set_ylim([1.5, -0.5])\\nax[1].set_xlim([-0.5, 1.5])\\nax[0].plot(\\n    hyperparams_knn[\\\"n_neighbors\\\"], grid_search_knn.cv_results_[\\\"mean_test_score\\\"]\\n)\\nax[0].set_xlabel(\\\"k\\\")\\nax[0].set_ylabel(r\\\"Weighted F$_1$ validation\\\")\\nax[0].grid()\\nax[0].set_title(\\n    f\\\"5-fold cross validated grid search. \\\\n  Best k = {grid_search_knn.best_params_['n_neighbors']}\\\"\\n)\\n# fig.suptitle(fr\\\"k Nearest Neighbors.\\\")\\n\\nfig.tight_layout()  # (rect=[0, 0.03, 1, 0.95])\\nfig.savefig(\\\"../doc/figures/kNN_cv_results.pdf\\\", dpi=1000)\\nplt.show()\";\n",
       "                var nbb_cells = Jupyter.notebook.get_cells();\n",
       "                for (var i = 0; i < nbb_cells.length; ++i) {\n",
       "                    if (nbb_cells[i].input_prompt_number == nbb_cell_id) {\n",
       "                        nbb_cells[i].set_text(nbb_formatted_code);\n",
       "                        break;\n",
       "                    }\n",
       "                }\n",
       "            }, 500);\n",
       "            "
      ],
      "text/plain": [
       "<IPython.core.display.Javascript object>"
      ]
     },
     "metadata": {},
     "output_type": "display_data"
    }
   ],
   "source": [
    "print(\"k-NN:\")\n",
    "print(f\"Train weighted f1 score: {grid_search_knn.score(X_train, y_train):.2f}\")\n",
    "print(f\"Test weighted f1 score: {grid_search_knn.score(X_test, y_test):.2f}\")\n",
    "print(f\"Best k = {grid_search_knn.best_params_['n_neighbors']}\")\n",
    "fig, ax = plt.subplots(1, 2, figsize=[6.24123, 6.24123 / 1.618])\n",
    "y_pred_test = encoder.inverse_transform(grid_search_knn.predict(X_test))\n",
    "sklplt.metrics.plot_confusion_matrix(\n",
    "    encoder.inverse_transform(y_test.to_numpy()),\n",
    "    y_pred_test,\n",
    "    ax=ax[1],\n",
    "    hide_counts=False,\n",
    "    normalize=False,\n",
    "    title=f\"Confusion Matrix \"\n",
    "    + f\"\\n g = signal, h = background \"\n",
    "    + f\"\\n k = {grid_search_knn.best_params_['n_neighbors']}\",\n",
    ")\n",
    "# Scikit-plot doesn't let you disable colorbar, removing it manually\n",
    "im = ax[1].images\n",
    "cb = im[-1].colorbar\n",
    "cb.remove()\n",
    "ax[1].set_ylim([1.5, -0.5])\n",
    "ax[1].set_xlim([-0.5, 1.5])\n",
    "ax[0].plot(\n",
    "    hyperparams_knn[\"n_neighbors\"], grid_search_knn.cv_results_[\"mean_test_score\"]\n",
    ")\n",
    "ax[0].set_xlabel(\"k\")\n",
    "ax[0].set_ylabel(r\"Weighted F$_1$ validation\")\n",
    "ax[0].grid()\n",
    "ax[0].set_title(\n",
    "    f\"5-fold cross validated grid search. \\n  Best k = {grid_search_knn.best_params_['n_neighbors']}\"\n",
    ")\n",
    "# fig.suptitle(fr\"k Nearest Neighbors.\")\n",
    "\n",
    "fig.tight_layout()  # (rect=[0, 0.03, 1, 0.95])\n",
    "fig.savefig(\"../doc/figures/kNN_cv_results.pdf\", dpi=1000)\n",
    "plt.show()"
   ]
  },
  {
   "cell_type": "markdown",
   "metadata": {},
   "source": [
    "## Tensorflow neural network\n",
    "Tuning hyperparameters using random search maximizing F$_1$ score. Splitting 0.1 of the train set into a validation set to use for tuning hyperparameters. After this, the model is refit on all the data using the best hyperparameters.\n",
    "\n",
    "The reason we do not use cross validation in this case is computational cost. The \"best\" approach would obviousily be to use cross validation here as well though, as it gives a better estimate of expected prediction error."
   ]
  },
  {
   "cell_type": "code",
   "execution_count": 26,
   "metadata": {},
   "outputs": [
    {
     "data": {
      "application/javascript": [
       "\n",
       "            setTimeout(function() {\n",
       "                var nbb_cell_id = 26;\n",
       "                var nbb_formatted_code = \"X_train_split, X_validation, y_train_split, y_validation = sklms.train_test_split(\\n    X_train, y_train, test_size=0.1, stratify=y_train\\n)\\nX_train_split = X_train_split.to_numpy()\\nX_validation = X_validation.to_numpy()\\n\\ny_train_split = y_train_split.to_numpy()\\n\\ny_validation = y_validation.to_numpy()\";\n",
       "                var nbb_cells = Jupyter.notebook.get_cells();\n",
       "                for (var i = 0; i < nbb_cells.length; ++i) {\n",
       "                    if (nbb_cells[i].input_prompt_number == nbb_cell_id) {\n",
       "                        nbb_cells[i].set_text(nbb_formatted_code);\n",
       "                        break;\n",
       "                    }\n",
       "                }\n",
       "            }, 500);\n",
       "            "
      ],
      "text/plain": [
       "<IPython.core.display.Javascript object>"
      ]
     },
     "metadata": {},
     "output_type": "display_data"
    }
   ],
   "source": [
    "# Creating validation split.\n",
    "X_train_split, X_validation, y_train_split, y_validation = sklms.train_test_split(\n",
    "    X_train, y_train, test_size=0.1, stratify=y_train\n",
    ")\n",
    "X_train_split = X_train_split.to_numpy()\n",
    "X_validation = X_validation.to_numpy()\n",
    "\n",
    "y_train_split = y_train_split.to_numpy()\n",
    "\n",
    "y_validation = y_validation.to_numpy()"
   ]
  },
  {
   "cell_type": "code",
   "execution_count": null,
   "metadata": {},
   "outputs": [],
   "source": [
    "# Scikit-optimize has built in distributions for finding hyperparameters using random search.\n",
    "batch_sizes = skopt.space.Integer(low=1, high=200, name=\"batch_size\")\n",
    "dropout_1 = skopt.space.Real(low=0, high=0.5, name=\"dropout_1\")\n",
    "dropout_2 = skopt.space.Real(low=0, high=0.5, name=\"dropout_2\")\n",
    "nodes_1 = skopt.space.Integer(low=1, high=20, name=\"nodes_1\")\n",
    "nodes_2 = skopt.space.Integer(low=1, high=10, name=\"nodes_2\")\n",
    "space = [batch_sizes, dropout_1, dropout_2, nodes_1, nodes_2]\n",
    "\n",
    "# Decorator provided by skopt, makes function usable by optimizers from the package.\n",
    "@skopt.utils.use_named_args(dimensions=space)\n",
    "def neural_network_fit(\n",
    "    batch_size, dropout_1, dropout_2, nodes_1, nodes_2, return_epochs=False\n",
    "):\n",
    "    # Early stopping so we don't have to tune epochs as well.\n",
    "    early_stop = tf.keras.callbacks.EarlyStopping(\n",
    "        monitor=\"val_loss\", patience=3, verbose=1, restore_best_weights=True\n",
    "    )\n",
    "    model = tf.keras.models.Sequential(\n",
    "        [\n",
    "            tf.keras.layers.Dense(nodes_1, activation=\"relu\"),\n",
    "            tf.keras.layers.Dropout(dropout_1),\n",
    "            tf.keras.layers.Dense(nodes_2, activation=\"relu\"),\n",
    "            tf.keras.layers.Dropout(dropout_2),\n",
    "            tf.keras.layers.Dense(2, activation=\"softmax\"),\n",
    "        ]\n",
    "    )\n",
    "    model.compile(\n",
    "        optimizer=\"adam\", loss=\"categorical_crossentropy\",\n",
    "    )\n",
    "\n",
    "    model.fit(\n",
    "        X_train_split,\n",
    "        y_train_split,\n",
    "        epochs=100,\n",
    "        batch_size=batch_size,\n",
    "        validation_data=(X_validation, y_validation),\n",
    "        verbose=0,\n",
    "        callbacks=[early_stop],\n",
    "    )\n",
    "    # This condition is True when we want to use the function to get best number of epochs.\n",
    "    if return_epochs:\n",
    "        return early_stop.stopped_epoch\n",
    "    y_pred_validation_nn = model.predict_classes(X_validation).reshape(-1, 1)\n",
    "    y_pred_validation_nn = np.append(\n",
    "        y_pred_validation_nn == 0, y_pred_validation_nn == 1, axis=1\n",
    "    ).astype(np.int)\n",
    "    f1_score_weighted_validation = sklme.f1_score(\n",
    "        y_true=y_validation, y_pred=y_pred_validation_nn, average=\"weighted\"\n",
    "    )\n",
    "\n",
    "    return 1 - f1_score_weighted_validation\n",
    "\n",
    "# !00 random points\n",
    "n_points = 1000\n",
    "optimizer_nn = skopt.gp_minimize(\n",
    "    func=neural_network_fit,\n",
    "    dimensions=space,\n",
    "    n_jobs=-1,\n",
    "    verbose=True,\n",
    "    n_calls=n_points,\n",
    "    n_random_starts=n_points,\n",
    ")"
   ]
  },
  {
   "cell_type": "markdown",
   "metadata": {},
   "source": [
    "### Refitting on full training set"
   ]
  },
  {
   "cell_type": "code",
   "execution_count": null,
   "metadata": {},
   "outputs": [],
   "source": [
    "best_batch_nn = optimizer_nn[\"x\"][0]\n",
    "best_dropout_1 = optimizer_nn[\"x\"][1]\n",
    "best_dropout_2 = optimizer_nn[\"x\"][2]\n",
    "best_nodes_1 = optimizer_nn[\"x\"][3]\n",
    "best_nodes_2 = optimizer_nn[\"x\"][4]\n",
    "print(\n",
    "    type(best_batch_nn),\n",
    "    type(best_dropout_1),\n",
    "    best_dropout_2,\n",
    "    type(best_nodes_1),\n",
    "    best_nodes_2,\n",
    ")\n",
    "# Finding best number of epochs.\n",
    "best_epochs = neural_network_fit.__wrapped__(\n",
    "    best_batch_nn, best_dropout_1, best_dropout_2, best_nodes_1, best_nodes_2, True,\n",
    ")\n",
    "print(best_epochs)\n",
    "model = tf.keras.models.Sequential(\n",
    "    [\n",
    "        tf.keras.layers.Dense(best_nodes_1, activation=\"relu\"),\n",
    "        tf.keras.layers.Dropout(best_dropout_1),\n",
    "        tf.keras.layers.Dense(best_nodes_2, activation=\"relu\"),\n",
    "        tf.keras.layers.Dropout(best_dropout_2),\n",
    "        tf.keras.layers.Dense(2, activation=\"softmax\"),\n",
    "    ]\n",
    ")\n",
    "model.compile(\n",
    "    optimizer=\"adam\", loss=\"categorical_crossentropy\",\n",
    ")\n",
    "\n",
    "model.fit(\n",
    "    X_train.to_numpy(),\n",
    "    y_train.to_numpy(),\n",
    "    epochs=best_epochs,\n",
    "    batch_size=best_batch_nn,\n",
    "    verbose=1,\n",
    ")\n",
    "# Saving model\n",
    "model.save_weights(\"models/best_nn_not_pca\")\n",
    "np.save(\"models/best_hyperparams_nn.npy\", optimizer_nn[\"x\"])"
   ]
  },
  {
   "cell_type": "code",
   "execution_count": 29,
   "metadata": {},
   "outputs": [
    {
     "name": "stdout",
     "output_type": "stream",
     "text": [
      "Neural Network:\n",
      "Train weighted f1 score: 0.87\n",
      "Test weighted f1 score: 0.87\n",
      "Best hyperparams: [1.09000000e+02 1.26008476e-01 9.46649301e-02 1.70000000e+01\n",
      " 4.00000000e+00]\n"
     ]
    },
    {
     "data": {
      "image/png": "[encoded data removed]",
      "text/plain": [
       "<Figure size 217.211x217.211 with 1 Axes>"
      ]
     },
     "metadata": {
      "needs_background": "light"
     },
     "output_type": "display_data"
    },
    {
     "data": {
      "application/javascript": [
       "\n",
       "            setTimeout(function() {\n",
       "                var nbb_cell_id = 29;\n",
       "                var nbb_formatted_code = \"best_hyperparams = np.load(\\\"models/best_hyperparams_nn.npy\\\")\\nbest_batch_nn = best_hyperparams[0]\\nbest_dropout_1 = best_hyperparams[1]\\nbest_dropout_2 = best_hyperparams[2]\\nbest_nodes_1 = best_hyperparams[3]\\nbest_nodes_2 = best_hyperparams[4]\\n\\nmodel = tf.keras.models.Sequential(\\n    [\\n        tf.keras.layers.Dense(best_nodes_1, activation=\\\"relu\\\"),\\n        tf.keras.layers.Dropout(best_dropout_1),\\n        tf.keras.layers.Dense(best_nodes_2, activation=\\\"relu\\\"),\\n        tf.keras.layers.Dropout(best_dropout_2),\\n        tf.keras.layers.Dense(2, activation=\\\"softmax\\\"),\\n    ]\\n)\\nmodel.compile(\\n    optimizer=\\\"adam\\\", loss=\\\"categorical_crossentropy\\\",\\n)\\nmodel.load_weights(\\\"models/best_nn_not_pca\\\")\\n\\ny_pred_train_nn = model.predict_classes(X_train.to_numpy()).reshape(-1, 1)\\ny_pred_train_nn = np.append(y_pred_train_nn == 0, y_pred_train_nn == 1, axis=1).astype(\\n    np.int\\n)\\n\\ny_pred_test_nn = model.predict_classes(X_test.to_numpy()).reshape(-1, 1)\\ny_pred_test_nn = np.append(y_pred_test_nn == 0, y_pred_test_nn == 1, axis=1).astype(\\n    np.int\\n)\\n\\nf1_score_weighted_train = sklme.f1_score(\\n    y_true=y_train, y_pred=y_pred_train_nn, average=\\\"weighted\\\"\\n)\\n\\nf1_score_weighted_test = sklme.f1_score(\\n    y_true=y_test, y_pred=y_pred_test_nn, average=\\\"weighted\\\"\\n)\\n\\n\\nprint(\\\"Neural Network:\\\")\\nprint(f\\\"Train weighted f1 score: {f1_score_weighted_train:.2f}\\\")\\nprint(f\\\"Test weighted f1 score: {f1_score_weighted_test:.2f}\\\")\\nprint(f\\\"Best hyperparams: {best_hyperparams}\\\")\\n\\nfig, ax = plt.subplots(figsize=[3.01682, 3.01682])\\nsklplt.metrics.plot_confusion_matrix(\\n    encoder.inverse_transform(y_test.to_numpy()),\\n    encoder.inverse_transform(y_pred_test_nn),\\n    ax=ax,\\n)\\nax.set_ylim([1.5, -0.5])\\nax.set_xlim([-0.5, 1.5])\\nim = ax.images\\ncb = im[-1].colorbar\\ncb.remove()\\nfig.tight_layout()\\nfig.savefig(\\\"../doc/figures/nn_confusion_matrix.pdf\\\", dpi=1000)\\nplt.show()\";\n",
       "                var nbb_cells = Jupyter.notebook.get_cells();\n",
       "                for (var i = 0; i < nbb_cells.length; ++i) {\n",
       "                    if (nbb_cells[i].input_prompt_number == nbb_cell_id) {\n",
       "                        nbb_cells[i].set_text(nbb_formatted_code);\n",
       "                        break;\n",
       "                    }\n",
       "                }\n",
       "            }, 500);\n",
       "            "
      ],
      "text/plain": [
       "<IPython.core.display.Javascript object>"
      ]
     },
     "metadata": {},
     "output_type": "display_data"
    }
   ],
   "source": [
    "# Loading saved hyperparameters\n",
    "best_hyperparams = np.load(\"models/best_hyperparams_nn.npy\")\n",
    "best_batch_nn = best_hyperparams[0]\n",
    "best_dropout_1 = best_hyperparams[1]\n",
    "best_dropout_2 = best_hyperparams[2]\n",
    "best_nodes_1 = best_hyperparams[3]\n",
    "best_nodes_2 = best_hyperparams[4]\n",
    "\n",
    "model = tf.keras.models.Sequential(\n",
    "    [\n",
    "        tf.keras.layers.Dense(best_nodes_1, activation=\"relu\"),\n",
    "        tf.keras.layers.Dropout(best_dropout_1),\n",
    "        tf.keras.layers.Dense(best_nodes_2, activation=\"relu\"),\n",
    "        tf.keras.layers.Dropout(best_dropout_2),\n",
    "        tf.keras.layers.Dense(2, activation=\"softmax\"),\n",
    "    ]\n",
    ")\n",
    "model.compile(\n",
    "    optimizer=\"adam\", loss=\"categorical_crossentropy\",\n",
    ")\n",
    "# Loading saved model\n",
    "model.load_weights(\"models/best_nn_not_pca\")\n",
    "\n",
    "y_pred_train_nn = model.predict_classes(X_train.to_numpy()).reshape(-1, 1)\n",
    "y_pred_train_nn = np.append(y_pred_train_nn == 0, y_pred_train_nn == 1, axis=1).astype(\n",
    "    np.int\n",
    ")\n",
    "\n",
    "y_pred_test_nn = model.predict_classes(X_test.to_numpy()).reshape(-1, 1)\n",
    "y_pred_test_nn = np.append(y_pred_test_nn == 0, y_pred_test_nn == 1, axis=1).astype(\n",
    "    np.int\n",
    ")\n",
    "\n",
    "f1_score_weighted_train = sklme.f1_score(\n",
    "    y_true=y_train, y_pred=y_pred_train_nn, average=\"weighted\"\n",
    ")\n",
    "\n",
    "f1_score_weighted_test = sklme.f1_score(\n",
    "    y_true=y_test, y_pred=y_pred_test_nn, average=\"weighted\"\n",
    ")\n",
    "\n",
    "\n",
    "print(\"Neural Network:\")\n",
    "print(f\"Train weighted f1 score: {f1_score_weighted_train:.2f}\")\n",
    "print(f\"Test weighted f1 score: {f1_score_weighted_test:.2f}\")\n",
    "print(f\"Best hyperparams: {best_hyperparams}\")\n",
    "\n",
    "fig, ax = plt.subplots(figsize=[3.01682, 3.01682])\n",
    "sklplt.metrics.plot_confusion_matrix(\n",
    "    encoder.inverse_transform(y_test.to_numpy()),\n",
    "    encoder.inverse_transform(y_pred_test_nn),\n",
    "    ax=ax,\n",
    ")\n",
    "ax.set_ylim([1.5, -0.5])\n",
    "ax.set_xlim([-0.5, 1.5])\n",
    "im = ax.images\n",
    "cb = im[-1].colorbar\n",
    "cb.remove()\n",
    "fig.tight_layout()\n",
    "fig.savefig(\"../doc/figures/nn_confusion_matrix.pdf\", dpi=1000)\n",
    "plt.show()"
   ]
  },
  {
   "cell_type": "markdown",
   "metadata": {},
   "source": [
    "## XGBoost\n",
    "Using randomized search to maximize F$_1$ score on validation set (0.1 of train set). Model is then refit on full training set using best hyperparameters."
   ]
  },
  {
   "cell_type": "code",
   "execution_count": 30,
   "metadata": {},
   "outputs": [
    {
     "data": {
      "application/javascript": [
       "\n",
       "            setTimeout(function() {\n",
       "                var nbb_cell_id = 30;\n",
       "                var nbb_formatted_code = \"y_train_boost = encoder.inverse_transform(y_train).ravel()\\ny_test_boost = encoder.inverse_transform(y_test).ravel()\\n\\ny_train_split_boost = encoder.inverse_transform(y_train_split).ravel()\\ny_validation_boost = encoder.inverse_transform(y_validation).ravel()\\n\\nvalidation_set_boost = [(X_validation, y_validation_boost)]\";\n",
       "                var nbb_cells = Jupyter.notebook.get_cells();\n",
       "                for (var i = 0; i < nbb_cells.length; ++i) {\n",
       "                    if (nbb_cells[i].input_prompt_number == nbb_cell_id) {\n",
       "                        nbb_cells[i].set_text(nbb_formatted_code);\n",
       "                        break;\n",
       "                    }\n",
       "                }\n",
       "            }, 500);\n",
       "            "
      ],
      "text/plain": [
       "<IPython.core.display.Javascript object>"
      ]
     },
     "metadata": {},
     "output_type": "display_data"
    }
   ],
   "source": [
    "# XGBoost wants the data in a different format.\n",
    "y_train_boost = encoder.inverse_transform(y_train).ravel()\n",
    "y_test_boost = encoder.inverse_transform(y_test).ravel()\n",
    "\n",
    "y_train_split_boost = encoder.inverse_transform(y_train_split).ravel()\n",
    "y_validation_boost = encoder.inverse_transform(y_validation).ravel()\n",
    "\n",
    "validation_set_boost = [(X_validation, y_validation_boost)]"
   ]
  },
  {
   "cell_type": "code",
   "execution_count": 31,
   "metadata": {},
   "outputs": [
    {
     "data": {
      "application/javascript": [
       "\n",
       "            setTimeout(function() {\n",
       "                var nbb_cell_id = 31;\n",
       "                var nbb_formatted_code = \"space_xg = [\\n    skopt.space.Real(low=1e-2, high=2e-1, prior=\\\"log-uniform\\\", name=\\\"learning_rate\\\"),\\n    skopt.space.Integer(low=1, high=10, name=\\\"max_tree_depth\\\"),\\n    skopt.space.Real(low=1e-3, high=1e-1, prior=\\\"log-uniform\\\", name=\\\"l1_alpha\\\"),\\n    skopt.space.Real(low=1e-3, high=1e-1, prior=\\\"log-uniform\\\", name=\\\"l2_lambda\\\"),\\n    skopt.space.Integer(low=1, high=10, name=\\\"min_child_weight\\\"),\\n]\";\n",
       "                var nbb_cells = Jupyter.notebook.get_cells();\n",
       "                for (var i = 0; i < nbb_cells.length; ++i) {\n",
       "                    if (nbb_cells[i].input_prompt_number == nbb_cell_id) {\n",
       "                        nbb_cells[i].set_text(nbb_formatted_code);\n",
       "                        break;\n",
       "                    }\n",
       "                }\n",
       "            }, 500);\n",
       "            "
      ],
      "text/plain": [
       "<IPython.core.display.Javascript object>"
      ]
     },
     "metadata": {},
     "output_type": "display_data"
    }
   ],
   "source": [
    "space_xg = [\n",
    "    skopt.space.Real(low=1e-2, high=2e-1, prior=\"log-uniform\", name=\"learning_rate\"),\n",
    "    skopt.space.Integer(low=1, high=10, name=\"max_tree_depth\"),\n",
    "    skopt.space.Real(low=1e-3, high=1e-1, prior=\"log-uniform\", name=\"l1_alpha\"),\n",
    "    skopt.space.Real(low=1e-3, high=1e-1, prior=\"log-uniform\", name=\"l2_lambda\"),\n",
    "    skopt.space.Integer(low=1, high=10, name=\"min_child_weight\"),\n",
    "]"
   ]
  },
  {
   "cell_type": "code",
   "execution_count": 32,
   "metadata": {},
   "outputs": [
    {
     "data": {
      "application/javascript": [
       "\n",
       "            setTimeout(function() {\n",
       "                var nbb_cell_id = 32;\n",
       "                var nbb_formatted_code = \"@skopt.utils.use_named_args(dimensions=space_xg)\\ndef xgboost_tune(\\n    learning_rate,\\n    max_tree_depth,\\n    l1_alpha,\\n    l2_lambda,\\n    min_child_weight,\\n    return_estimators=False,\\n):\\n\\n    xgboost = xgb.XGBClassifier(\\n        objective=\\\"binary:logistic\\\",\\n        n_jobs=-1,\\n        n_estimators=int(1e3),\\n        learning_rate=learning_rate,\\n        max_depth=max_tree_depth,\\n        reg_alpha=l1_alpha,\\n        reg_lambda=l2_lambda,\\n        min_child_weight=min_child_weight,\\n    ).fit(\\n        X=X_train_split,\\n        y=y_train_split_boost,\\n        eval_metric=[\\\"logloss\\\"],\\n        eval_set=validation_set_boost,\\n        early_stopping_rounds=3,\\n        verbose=False,\\n    )\\n\\n    y_pred_validation_boost = xgboost.predict(X_validation).reshape(-1, 1)\\n    f1_score_validation = sklme.f1_score(\\n        y_true=y_validation,\\n        y_pred=encoder.transform(y_pred_validation_boost),\\n        average=\\\"weighted\\\",\\n    )\\n\\n    if return_estimators:\\n        return xgboost.best_iteration\\n\\n    return 1 - f1_score_validation\";\n",
       "                var nbb_cells = Jupyter.notebook.get_cells();\n",
       "                for (var i = 0; i < nbb_cells.length; ++i) {\n",
       "                    if (nbb_cells[i].input_prompt_number == nbb_cell_id) {\n",
       "                        nbb_cells[i].set_text(nbb_formatted_code);\n",
       "                        break;\n",
       "                    }\n",
       "                }\n",
       "            }, 500);\n",
       "            "
      ],
      "text/plain": [
       "<IPython.core.display.Javascript object>"
      ]
     },
     "metadata": {},
     "output_type": "display_data"
    }
   ],
   "source": [
    "@skopt.utils.use_named_args(dimensions=space_xg)\n",
    "def xgboost_tune(\n",
    "    learning_rate,\n",
    "    max_tree_depth,\n",
    "    l1_alpha,\n",
    "    l2_lambda,\n",
    "    min_child_weight,\n",
    "    return_estimators=False,\n",
    "):\n",
    "\n",
    "    xgboost = xgb.XGBClassifier(\n",
    "        objective=\"binary:logistic\",\n",
    "        n_jobs=-1,\n",
    "        n_estimators=int(1e3),\n",
    "        learning_rate=learning_rate,\n",
    "        max_depth=max_tree_depth,\n",
    "        reg_alpha=l1_alpha,\n",
    "        reg_lambda=l2_lambda,\n",
    "        min_child_weight=min_child_weight,\n",
    "    ).fit(\n",
    "        X=X_train_split,\n",
    "        y=y_train_split_boost,\n",
    "        eval_metric=[\"logloss\"],\n",
    "        eval_set=validation_set_boost,\n",
    "        early_stopping_rounds=3,\n",
    "        verbose=False,\n",
    "    )\n",
    "\n",
    "    y_pred_validation_boost = xgboost.predict(X_validation).reshape(-1, 1)\n",
    "    f1_score_validation = sklme.f1_score(\n",
    "        y_true=y_validation,\n",
    "        y_pred=encoder.transform(y_pred_validation_boost),\n",
    "        average=\"weighted\",\n",
    "    )\n",
    "    \n",
    "    # Same logic as with neural network, circumventing the need for tuning epochs.\n",
    "    if return_estimators:\n",
    "        return xgboost.best_iteration\n",
    "\n",
    "    return 1 - f1_score_validation"
   ]
  },
  {
   "cell_type": "code",
   "execution_count": null,
   "metadata": {},
   "outputs": [],
   "source": [
    "n_points_xg = 1000\n",
    "optimizer_xgboost = skopt.gp_minimize(\n",
    "    func=xgboost_tune,\n",
    "    dimensions=space_xg,\n",
    "    n_jobs=1,\n",
    "    verbose=True,\n",
    "    n_calls=n_points_xg,\n",
    "    n_random_starts=n_points_xg,\n",
    ")"
   ]
  },
  {
   "cell_type": "code",
   "execution_count": 34,
   "metadata": {},
   "outputs": [
    {
     "name": "stdout",
     "output_type": "stream",
     "text": [
      "0.04816379830160162 9 0.007460566109135296 0.0035695005914375133 3\n",
      "125\n"
     ]
    },
    {
     "data": {
      "application/javascript": [
       "\n",
       "            setTimeout(function() {\n",
       "                var nbb_cell_id = 34;\n",
       "                var nbb_formatted_code = \"(\\n    best_learning_rate,\\n    best_max_tree_depth,\\n    best_l1_alpha,\\n    best_l2_lambda,\\n    best_min_child_weight,\\n) = optimizer_xgboost[\\\"x\\\"]\\n\\nprint(\\n    best_learning_rate,\\n    best_max_tree_depth,\\n    best_l1_alpha,\\n    best_l2_lambda,\\n    best_min_child_weight,\\n)\\n\\nbest_n_estimators = xgboost_tune.__wrapped__(\\n    best_learning_rate,\\n    best_max_tree_depth,\\n    best_l1_alpha,\\n    best_l2_lambda,\\n    best_min_child_weight,\\n    return_estimators=True,\\n)\\nprint(best_n_estimators)\";\n",
       "                var nbb_cells = Jupyter.notebook.get_cells();\n",
       "                for (var i = 0; i < nbb_cells.length; ++i) {\n",
       "                    if (nbb_cells[i].input_prompt_number == nbb_cell_id) {\n",
       "                        nbb_cells[i].set_text(nbb_formatted_code);\n",
       "                        break;\n",
       "                    }\n",
       "                }\n",
       "            }, 500);\n",
       "            "
      ],
      "text/plain": [
       "<IPython.core.display.Javascript object>"
      ]
     },
     "metadata": {},
     "output_type": "display_data"
    }
   ],
   "source": [
    "(\n",
    "    best_learning_rate,\n",
    "    best_max_tree_depth,\n",
    "    best_l1_alpha,\n",
    "    best_l2_lambda,\n",
    "    best_min_child_weight,\n",
    ") = optimizer_xgboost[\"x\"]\n",
    "\n",
    "print(\n",
    "    best_learning_rate,\n",
    "    best_max_tree_depth,\n",
    "    best_l1_alpha,\n",
    "    best_l2_lambda,\n",
    "    best_min_child_weight,\n",
    ")\n",
    "\n",
    "best_n_estimators = xgboost_tune.__wrapped__(\n",
    "    best_learning_rate,\n",
    "    best_max_tree_depth,\n",
    "    best_l1_alpha,\n",
    "    best_l2_lambda,\n",
    "    best_min_child_weight,\n",
    "    return_estimators=True,\n",
    ")\n",
    "print(best_n_estimators)"
   ]
  },
  {
   "cell_type": "markdown",
   "metadata": {},
   "source": [
    "### Refitting on full train set."
   ]
  },
  {
   "cell_type": "code",
   "execution_count": 35,
   "metadata": {},
   "outputs": [
    {
     "data": {
      "application/javascript": [
       "\n",
       "            setTimeout(function() {\n",
       "                var nbb_cell_id = 35;\n",
       "                var nbb_formatted_code = \"xgboost_refit = xgb.XGBClassifier(\\n    objective=\\\"binary:logistic\\\",\\n    n_jobs=-1,\\n    n_estimators=best_n_estimators,\\n    learning_rate=best_learning_rate,\\n    max_depth=best_max_tree_depth,\\n    reg_alpha=best_l1_alpha,\\n    reg_lambda=best_l2_lambda,\\n    min_child_weight=best_min_child_weight,\\n    verbose=True,\\n).fit(X_train, y_train_boost)\\n\\njoblib.dump(xgboost_refit, \\\"models/xgboost_refit.pkl\\\")\\nnp.save(\\n    \\\"models/best_hyperparams_xgboost.npy\\\",\\n    np.array(optimizer_xgboost[\\\"x\\\"], dtype=object),\\n)\";\n",
       "                var nbb_cells = Jupyter.notebook.get_cells();\n",
       "                for (var i = 0; i < nbb_cells.length; ++i) {\n",
       "                    if (nbb_cells[i].input_prompt_number == nbb_cell_id) {\n",
       "                        nbb_cells[i].set_text(nbb_formatted_code);\n",
       "                        break;\n",
       "                    }\n",
       "                }\n",
       "            }, 500);\n",
       "            "
      ],
      "text/plain": [
       "<IPython.core.display.Javascript object>"
      ]
     },
     "metadata": {},
     "output_type": "display_data"
    }
   ],
   "source": [
    "xgboost_refit = xgb.XGBClassifier(\n",
    "    objective=\"binary:logistic\",\n",
    "    n_jobs=-1,\n",
    "    n_estimators=best_n_estimators,\n",
    "    learning_rate=best_learning_rate,\n",
    "    max_depth=best_max_tree_depth,\n",
    "    reg_alpha=best_l1_alpha,\n",
    "    reg_lambda=best_l2_lambda,\n",
    "    min_child_weight=best_min_child_weight,\n",
    "    verbose=True,\n",
    ").fit(X_train, y_train_boost)\n",
    "# Saving\n",
    "joblib.dump(xgboost_refit, \"models/xgboost_refit.pkl\")\n",
    "np.save(\n",
    "    \"models/best_hyperparams_xgboost.npy\",\n",
    "    np.array(optimizer_xgboost[\"x\"], dtype=object),\n",
    ")"
   ]
  },
  {
   "cell_type": "code",
   "execution_count": 36,
   "metadata": {},
   "outputs": [
    {
     "data": {
      "application/javascript": [
       "\n",
       "            setTimeout(function() {\n",
       "                var nbb_cell_id = 36;\n",
       "                var nbb_formatted_code = \"best_hyperparams_xgboost = dict(\\n    zip(\\n        [\\\"learning_rate\\\", \\\"max_depth\\\", \\\"reg_alpha\\\", \\\"reg_lambda\\\", \\\"min_child_weight\\\",],\\n        np.load(\\\"models/best_hyperparams_xgboost.npy\\\", allow_pickle=True),\\n    )\\n)\\nxgboost_refit = joblib.load(\\\"models/xgboost_refit.pkl\\\")\";\n",
       "                var nbb_cells = Jupyter.notebook.get_cells();\n",
       "                for (var i = 0; i < nbb_cells.length; ++i) {\n",
       "                    if (nbb_cells[i].input_prompt_number == nbb_cell_id) {\n",
       "                        nbb_cells[i].set_text(nbb_formatted_code);\n",
       "                        break;\n",
       "                    }\n",
       "                }\n",
       "            }, 500);\n",
       "            "
      ],
      "text/plain": [
       "<IPython.core.display.Javascript object>"
      ]
     },
     "metadata": {},
     "output_type": "display_data"
    }
   ],
   "source": [
    "# Loading results.\n",
    "best_hyperparams_xgboost = dict(\n",
    "    zip(\n",
    "        [\"learning_rate\", \"max_depth\", \"reg_alpha\", \"reg_lambda\", \"min_child_weight\",],\n",
    "        np.load(\"models/best_hyperparams_xgboost.npy\", allow_pickle=True),\n",
    "    )\n",
    ")\n",
    "xgboost_refit = joblib.load(\"models/xgboost_refit.pkl\")"
   ]
  },
  {
   "cell_type": "code",
   "execution_count": 37,
   "metadata": {},
   "outputs": [
    {
     "name": "stdout",
     "output_type": "stream",
     "text": [
      "XGBoost:\n",
      "Train weighted f1 score: 0.95\n",
      "Test weighted f1 score: 0.88\n"
     ]
    },
    {
     "data": {
      "image/png": "[encoded data removed]",
      "text/plain": [
       "<Figure size 217.211x217.211 with 1 Axes>"
      ]
     },
     "metadata": {
      "needs_background": "light"
     },
     "output_type": "display_data"
    },
    {
     "data": {
      "application/javascript": [
       "\n",
       "            setTimeout(function() {\n",
       "                var nbb_cell_id = 37;\n",
       "                var nbb_formatted_code = \"y_pred_train_boost = xgboost_refit.predict(X_train).reshape(-1, 1)\\ny_pred_test_boost = xgboost_refit.predict(X_test).reshape(-1, 1)\\n\\nf1_score_weighted_train_boost = sklme.f1_score(\\n    y_true=y_train, y_pred=encoder.transform(y_pred_train_boost), average=\\\"weighted\\\"\\n)\\n\\nf1_score_weighted_test_boost = sklme.f1_score(\\n    y_true=y_test, y_pred=encoder.transform(y_pred_test_boost), average=\\\"weighted\\\"\\n)\\n\\nprint(\\\"XGBoost:\\\")\\nprint(f\\\"Train weighted f1 score: {f1_score_weighted_train_boost:.2f}\\\")\\nprint(f\\\"Test weighted f1 score: {f1_score_weighted_test_boost:.2f}\\\")\\n\\n\\nfig, ax = plt.subplots(figsize=[3.01682, 3.01682])\\nsklplt.metrics.plot_confusion_matrix(\\n    encoder.inverse_transform(y_test.to_numpy()), y_pred_test_boost, ax=ax,\\n)\\n\\nax.set_ylim([1.5, -0.5])\\nax.set_xlim([-0.5, 1.5])\\nim = ax.images\\ncb = im[-1].colorbar\\ncb.remove()\\nfig.tight_layout()\\nfig.savefig(\\\"../doc/figures/xgboost_confusion_matrix.pdf\\\", dpi=1000)\\nplt.show()\";\n",
       "                var nbb_cells = Jupyter.notebook.get_cells();\n",
       "                for (var i = 0; i < nbb_cells.length; ++i) {\n",
       "                    if (nbb_cells[i].input_prompt_number == nbb_cell_id) {\n",
       "                        nbb_cells[i].set_text(nbb_formatted_code);\n",
       "                        break;\n",
       "                    }\n",
       "                }\n",
       "            }, 500);\n",
       "            "
      ],
      "text/plain": [
       "<IPython.core.display.Javascript object>"
      ]
     },
     "metadata": {},
     "output_type": "display_data"
    }
   ],
   "source": [
    "y_pred_train_boost = xgboost_refit.predict(X_train).reshape(-1, 1)\n",
    "y_pred_test_boost = xgboost_refit.predict(X_test).reshape(-1, 1)\n",
    "\n",
    "f1_score_weighted_train_boost = sklme.f1_score(\n",
    "    y_true=y_train, y_pred=encoder.transform(y_pred_train_boost), average=\"weighted\"\n",
    ")\n",
    "\n",
    "f1_score_weighted_test_boost = sklme.f1_score(\n",
    "    y_true=y_test, y_pred=encoder.transform(y_pred_test_boost), average=\"weighted\"\n",
    ")\n",
    "\n",
    "print(\"XGBoost:\")\n",
    "print(f\"Train weighted f1 score: {f1_score_weighted_train_boost:.2f}\")\n",
    "print(f\"Test weighted f1 score: {f1_score_weighted_test_boost:.2f}\")\n",
    "\n",
    "\n",
    "fig, ax = plt.subplots(figsize=[3.01682, 3.01682])\n",
    "sklplt.metrics.plot_confusion_matrix(\n",
    "    encoder.inverse_transform(y_test.to_numpy()), y_pred_test_boost, ax=ax,\n",
    ")\n",
    "\n",
    "ax.set_ylim([1.5, -0.5])\n",
    "ax.set_xlim([-0.5, 1.5])\n",
    "im = ax.images\n",
    "cb = im[-1].colorbar\n",
    "cb.remove()\n",
    "fig.tight_layout()\n",
    "fig.savefig(\"../doc/figures/xgboost_confusion_matrix.pdf\", dpi=1000)\n",
    "plt.show()"
   ]
  }
 ],
 "metadata": {
  "kernelspec": {
   "display_name": "Python 3",
   "language": "python",
   "name": "python3"
  },
  "language_info": {
   "codemirror_mode": {
    "name": "ipython",
    "version": 3
   },
   "file_extension": ".py",
   "mimetype": "text/x-python",
   "name": "python",
   "nbconvert_exporter": "python",
   "pygments_lexer": "ipython3",
   "version": "3.7.4"
  }
 },
 "nbformat": 4,
 "nbformat_minor": 2
}
